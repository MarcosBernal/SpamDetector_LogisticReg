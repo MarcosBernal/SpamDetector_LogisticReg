{
 "cells": [
  {
   "cell_type": "markdown",
   "metadata": {
    "scrolled": true
   },
   "source": [
    "## Table of Contents\n",
    "1.  [Introduction](#introduction)\n",
    "2.  [Dataset](#dataset)\n",
    "     1. [Attribute Analysis](#attribute-analysis)\n",
    "3.  [Logistic Regression](#logistic-regression)\n",
    "     1. [Cost Function](#cost-function)\n",
    "     2. [Gradient Descent](#gradient-descent)\n",
    "4.  [Cross Validation Procedure](#cross-validation-procedure)\n",
    "5.  [Implementation](#implementation)\n",
    "     1. [Normalization](#normalization)\n",
    "     2. [Data set splitting](#data set splitting)\n",
    "     3. [Cost Function Implementation](#cost-function-implementation)\n",
    "     4. [Gradient Descent Implementation](#cost-function-implementation)\n",
    "6.  [Experiments](#experiments)\n",
    "    1. [Performance measures](#performance measures)\n",
    "    2. [Comparison](#benchmarks)\n",
    "          1. [Standard libraries](#standard libraries)\n",
    "          2. [Numpy version](#comparison-with-numpy)\n",
    "     \n",
    "7.  [Conclusions](#conclusions)"
   ]
  },
  {
   "cell_type": "markdown",
   "metadata": {},
   "source": [
    "## Introduction\n",
    "\n",
    " \n",
    "\n",
    "More information at:\n",
    "- [Machine Learning Coursera - Andre Ng](https://www.coursera.org/learn/machine-learning/)\n",
    "- [Lecture Notes pg(16-19)](http://cs229.stanford.edu/notes/cs229-notes1.pdf)"
   ]
  },
  {
   "cell_type": "markdown",
   "metadata": {},
   "source": [
    "## Dataset\n",
    "\n",
    "Spambase dataset contains 4601 instances of different emails classified into spam or legit email according 57 continious values plus the nominal class which is the label. \n",
    "\n",
    "The dataset was produced by Hewlett-Packard Labs in Juky 1999.\n",
    "\n",
    "The dataset is uploaded in [this repository](ftp://ftp.ics.uci.edu/pub/machine-learning-databases/spambase/).\n",
    "\n",
    "### Attribute analysis\n",
    "\n",
    "All attributes are continuous which make suitable to use regression, in our case, logistic regression as we want to detect if there is spam(dependent variable) depending of a set of attributes(predictors or independent variables).\n",
    "\n",
    "The attribute statistics are summarized in this tabble:\n",
    "\n",
    "| Column |Min: |Max: |Average: |Std.Dev: |Coeff.Var_%: |\n",
    "|--|--|-----|--------|--------|----|\n",
    "|1 |0 |4.54 |0.10455 |0.30536 |292 |\n",
    "|2 |0 |14.28 |0.21301 |1.2906 |606 |\n",
    "|3 |0 |5.1 |0.28066 |0.50414 |180 |\n",
    "|4 |0 |42.81 |0.065425 |1.3952 |2130 |\n",
    "|5 |0 |10 |0.31222 |0.67251 |215 |\n",
    "|6 |0 |5.88 |0.095901 |0.27382 |286 |\n",
    "|7 |0 |7.27 |0.11421 |0.39144 |343 |\n",
    "|8 |0 |11.11 |0.10529 |0.40107 |381 |\n",
    "|9 |0 |5.26 |0.090067 |0.27862 |309 |\n",
    "|10 |0 |18.18 |0.23941 |0.64476 |269 |\n",
    "|11 |0 |2.61 |0.059824 |0.20154 |337 |\n",
    "|12 |0 |9.67 |0.5417 |0.8617 |159 |\n",
    "|13 |0 |5.55 |0.09393 |0.30104 |320 |\n",
    "|14 |0 |10 |0.058626 |0.33518 |572 |\n",
    "|15 |0 |4.41 |0.049205 |0.25884 |526 |\n",
    "|16 |0 |20 |0.24885 |0.82579 |332 |\n",
    "|17 |0 |7.14 |0.14259 |0.44406 |311 |\n",
    "|18 |0 |9.09 |0.18474 |0.53112 |287 |\n",
    "|19 |0 |18.75 |1.6621 |1.7755 |107 |\n",
    "|20 |0 |18.18 |0.085577 |0.50977 |596 |\n",
    "|21 |0 |11.11 |0.80976 |1.2008 |148 |\n",
    "|22 |0 |17.1 |0.1212 |1.0258 |846 |\n",
    "|23 |0 |5.45 |0.10165 |0.35029 |345 |\n",
    "|24 |0 |12.5 |0.094269 |0.44264 |470 |\n",
    "|25 |0 |20.83 |0.5495 |1.6713 |304 |\n",
    "|26 |0 |16.66 |0.26538 |0.88696 |334 |\n",
    "|27 |0 |33.33 |0.7673 |3.3673 |439 |\n",
    "|28 |0 |9.09 |0.12484 |0.53858 |431 |\n",
    "|29 |0 |14.28 |0.098915 |0.59333 |600 |\n",
    "|30 |0 |5.88 |0.10285 |0.45668 |444 |\n",
    "|31 |0 |12.5 |0.064753 |0.40339 |623 |\n",
    "|32 |0 |4.76 |0.047048 |0.32856 |698 |\n",
    "|33 |0 |18.18 |0.097229 |0.55591 |572 |\n",
    "|34 |0 |4.76 |0.047835 |0.32945 |689 |\n",
    "|35 |0 |20 |0.10541 |0.53226 |505 |\n",
    "|36 |0 |7.69 |0.097477 |0.40262 |413 |\n",
    "|37 |0 |6.89 |0.13695 |0.42345 |309 |\n",
    "|38 |0 |8.33 |0.013201 |0.22065 |1670 |\n",
    "|39 |0 |11.11 |0.078629 |0.43467 |553 |\n",
    "|40 |0 |4.76 |0.064834 |0.34992 |540 |\n",
    "|41 |0 |7.14 |0.043667 |0.3612 |827 |\n",
    "|42 |0 |14.28 |0.13234 |0.76682 |579 |\n",
    "|43 |0 |3.57 |0.046099 |0.22381 |486 |\n",
    "|44 |0 |20 |0.079196 |0.62198 |785 |\n",
    "|45 |0 |21.42 |0.30122 |1.0117 |336 |\n",
    "|46 |0 |22.05 |0.17982 |0.91112 |507 |\n",
    "|47 |0 |2.17 |0.0054445 |0.076274 |1400 |\n",
    "|48 |0 |10 |0.031869 |0.28573 |897 |\n",
    "|49 |0 |4.385 |0.038575 |0.24347 |631 |\n",
    "|50 |0 |9.752 |0.13903 |0.27036 |194 |\n",
    "|51 |0 |4.081 |0.016976 |0.10939 |644 |\n",
    "|52 |0 |32.478 |0.26907 |0.81567 |303 |\n",
    "|53 |0 |6.003 |0.075811 |0.24588 |324 |\n",
    "|54 |0 |19.829 |0.044238 |0.42934 |971 |\n",
    "|55 |1 |1102.5 |5.1915 |31.729 |611 |\n",
    "|56 |1 |9989 |52.173 |194.89 |374 |\n",
    "|57 |1 |15841 |283.29 |606.35 |214 |\n",
    "|58 |0 |1 |0.39404 |0.4887 |124 |\n",
    "\n"
   ]
  },
  {
   "cell_type": "markdown",
   "metadata": {},
   "source": [
    "## Logistic Regression\n",
    "\n",
    "Logistic Regression(LR) is an algorithm used in supervised problems where the data is labeled previously and it is needed a binary or dichotomous classifier.\n",
    "\n",
    "The LR algorithm it is based on linear regression and the logistic function...\n",
    "\n",
    "### Cost function\n",
    "\n",
    "The cost function applied in logistic regression \n",
    "\n",
    "\n",
    "$Cost(h_{\\theta}(x),y)=\\left\\{\n",
    "                \\begin{array}{ll}\n",
    "                  -log({h_{\\theta}(x)})    & \\quad \\text{if } x \\text{ is 1}\\\\\n",
    "                  -log({1-h_{\\theta}(x)})  & \\quad \\text{if } n \\text{ is 0}\n",
    "                \\end{array}\n",
    "              \\right.$\n",
    "              \n",
    "Intuitively: the cost funtions returns 0 if the hypothesis function output is equal to the true label. In case the model states a diferent output the cost funtion will approach infinity.\n",
    "              \n",
    "If we reduce the formula in a more compact way we get: \n",
    "$Cost(h_{\\theta}(x),y) = -y·log(h_{\\theta}(x)) - (1-y)log(1-h_{\\theta}(x))$\n",
    "\n",
    "\n",
    "Info obtained from [lecture of Andrew NG](https://www.coursera.org/learn/machine-learning/lecture/1XG8G/cost-function)"
   ]
  },
  {
   "cell_type": "markdown",
   "metadata": {},
   "source": [
    "## Cross Validation Procedure\n",
    "\n",
    "bla, bla"
   ]
  },
  {
   "cell_type": "markdown",
   "metadata": {},
   "source": [
    "## Implementation\n",
    "\n",
    "\n"
   ]
  },
  {
   "cell_type": "markdown",
   "metadata": {},
   "source": [
    "### Cluster configuration and RDD creation "
   ]
  },
  {
   "cell_type": "code",
   "execution_count": 1,
   "metadata": {},
   "outputs": [],
   "source": [
    "file_object  = open('spam.data', 'r')\n",
    "lines = file_object.readlines()\n",
    "file_object.close()\n",
    "    \n",
    "total_size = len(lines)\n",
    "\n",
    "import math, time\n",
    "import numpy as np\n",
    "from random import shuffle\n",
    "from pyspark import SparkContext, SparkConf, rdd\n",
    "conf = SparkConf().setAppName(\"Spam Filter\").setMaster(\"local[4]\").set(\"spark.hadoop.validateOutputSpecs\", \"false\");\n",
    "sc = SparkContext(conf=conf)"
   ]
  },
  {
   "cell_type": "code",
   "execution_count": 2,
   "metadata": {},
   "outputs": [
    {
     "name": "stdout",
     "output_type": "stream",
     "text": [
      "--\n",
      "Calculated stats of the features of all instances: max, min, mean, std_deviation, and coeff_variation\n",
      "Values have been normalized and are kept in the 'master_norm_rdd' variable\n",
      "--\n"
     ]
    }
   ],
   "source": [
    "# Creating RDD\n",
    "master_rdd = sc.parallelize(lines)\n",
    "master_rdd = master_rdd.map(lambda x: [float(item) for item in x.split('\\n')[0].split(\" \")])\n",
    "temporal_list = master_rdd.collect()\n",
    "shuffle(temporal_list) # Labels are all together 1's and 0's\n",
    "master_rdd = sc.parallelize(temporal_list)\n",
    "\n",
    "\n",
    "# Get stats of the instance values\n",
    "max_min_rdd = master_rdd.flatMap(lambda x: [ (index_key, x[index_key]) for index_key in range(len(x))])\n",
    "max_list = [ item[1] for item in max_min_rdd.reduceByKey(lambda x,y: x if x > y else y).collect()]\n",
    "min_list = [ item[1] for item in max_min_rdd.reduceByKey(lambda x,y: x if x < y else y).collect()]\n",
    "mean_list = [ value[1]/len(lines) for value in max_min_rdd.reduceByKey(lambda x,y: x + y).collect()]\n",
    "std_deviation_list = [ math.sqrt((value[1]/len(lines))) for value in max_min_rdd.map(lambda x:  [ x[0],(x[1] - mean_list[x[0]])*(x[1] - mean_list[x[0]]) ]).reduceByKey(lambda x,y: x+y).collect() ]\n",
    "coeff_variation = [ std_deviation_list[index]/mean_list[index] for index in range(len(std_deviation_list))]\n",
    "\n",
    "# Normalize values\n",
    "def normalize_data(data):\n",
    "    max_min = data.flatMap(lambda x: [ (index_key, x[index_key]) for index_key in range(len(x)-1)]) #Last position is label\n",
    "    max__list = sorted(max_min.reduceByKey(lambda x,y: x if x > y else y).collect())\n",
    "    min__list = sorted(max_min.reduceByKey(lambda x,y: x if x < y else y).collect())\n",
    "    mean_list = sorted([ value[1]/data.count() for value in max_min.reduceByKey(lambda x,y: x + y).collect()])\n",
    "    \n",
    "    return data.map(lambda x: [(float(x[index]) - min__list[index][1])/(max__list[index][1] - min__list[index][1]) if index != len(x)-1 else x[index] for index in range(len(x))] )\n",
    "    \n",
    "\n",
    "    \n",
    "master_norm_rdd = normalize_data(master_rdd)\n",
    "#.map(lambda x: [(x[index] - min_list[index])/(max_list[index] - min_list[index]) for index in range(len(x)-1)] )\n",
    "max_min_norm_rdd = master_norm_rdd.flatMap(lambda x: [ (index_key, x[index_key]) for index_key in range(len(x))])\n",
    "\n",
    "print(\"--\")\n",
    "print(\"Calculated stats of the features of all instances: max, min, mean, std_deviation, and coeff_variation\")\n",
    "print(\"Values have been normalized and are kept in the \\'master_norm_rdd\\' variable\")\n",
    "print(\"--\")"
   ]
  },
  {
   "cell_type": "markdown",
   "metadata": {},
   "source": [
    "### Split of data in different datasets\n",
    "\n",
    "We will split our data in three files, for:\n",
    "- Training the model ~ 60%\n",
    "- Validation the model ~ 20%\n",
    "- Test the model ~ 20%"
   ]
  },
  {
   "cell_type": "code",
   "execution_count": 24,
   "metadata": {},
   "outputs": [
    {
     "name": "stdout",
     "output_type": "stream",
     "text": [
      "File spam.data has been normalized and splitted in 3 files: \n",
      " spam.training.norm.data, spam.validating.norm.data, spam.testing.norm.data\n",
      "Sizes: \n",
      " - Training data:  2761 \n",
      " - Validating data:  920 \n",
      " - Testing data:  920 \n",
      " -- Total size: 4601\n"
     ]
    }
   ],
   "source": [
    "import math\n",
    "training_size = round(total_size*0.6)\n",
    "validating_size = round(total_size*0.2)\n",
    "\n",
    "# Creating RDDs\n",
    "master_norm_list = master_norm_rdd.collect()\n",
    "trainingset_rdd = sc.parallelize(master_norm_list[:training_size])\n",
    "validatingset_rdd = sc.parallelize(master_norm_list[training_size:training_size+validating_size])\n",
    "testingset_rdd = sc.parallelize(master_norm_list[training_size+validating_size:])\n",
    "\n",
    "trainingset_rdd.saveAsTextFile('spam.training.norm.data')\n",
    "validatingset_rdd.saveAsTextFile('spam.validating.norm.data')\n",
    "testingset_rdd.saveAsTextFile('spam.testing.norm.data')\n",
    "\n",
    "print(\"File spam.data has been normalized and splitted in 3 files: \\n spam.training.norm.data, spam.validating.norm.data, spam.testing.norm.data\")\n",
    "print(\"Sizes: \\n - Training data: \", trainingset_rdd.count() ,\"\\n - Validating data: \",validatingset_rdd.count(), \"\\n - Testing data: \",testingset_rdd.count(),\"\\n -- Total size:\", total_size)"
   ]
  },
  {
   "cell_type": "code",
   "execution_count": null,
   "metadata": {},
   "outputs": [],
   "source": [
    "start = time.time()\n",
    "values_spark = optimal_learning_rate_value_spark(trainingset_rdd, max_iterations=100, lambda_reg=0.5)\n",
    "end = time.time()\n",
    "print(end - start)\n",
    "\n",
    "start = time.time()\n",
    "values = optimal_learning_rate_value(trainingset_rdd.collect(), max_iterations=100, lambda_reg=0.5)\n",
    "end = time.time()\n",
    "print(end - start)"
   ]
  },
  {
   "cell_type": "markdown",
   "metadata": {},
   "source": [
    "### Cost function\n",
    "\n",
    "From the [previous chapter](#), the cost function was defined as:\n",
    "\n",
    "$Cost(h_{\\theta}(x),y) = -y·log(h_{\\theta}(x)) - (1-y)log(1-h_{\\theta}(x))$\n",
    "\n",
    "J(\n"
   ]
  },
  {
   "cell_type": "code",
   "execution_count": 75,
   "metadata": {},
   "outputs": [],
   "source": [
    "# coeff and values must be lists with the same length\n",
    "def predict(coeff, values):\n",
    "    logit = [coeff[index]*values[index] for index in range(len(coeff)-1)] # Last element is bias(coeff) - label(values)\n",
    "    logit.append(coeff[-1])\n",
    "    logit = sum(logit)\n",
    "    \n",
    "    if logit < 0: # when logit becomes a large positive value, math.exp(gamma) overflows\n",
    "        sigmoid = 1 - 1 / (1 + math.exp(logit))\n",
    "    else:\n",
    "        sigmoid = 1 / (1 + math.exp(-logit))\n",
    "    return sigmoid\n",
    "\n",
    "\n",
    "\n",
    "# https://www.coursera.org/learn/machine-learning/lecture/10sqI/map-reduce-and-data-parallelism\n",
    "\n",
    "def training_logistic_regression_model_spark(training_set_rdd, l_rate, iterations=1000, lambda_reg = 0):\n",
    "    # Init the coeff\n",
    "    coeff = [0.0 for index in range(len(training_set_rdd.first()))]\n",
    "    l_rate_over_size = l_rate/training_set_rdd.count()\n",
    "    lambda_reg = lambda_reg/training_set_rdd.count()\n",
    "    \n",
    "    for iteration in range(iterations):\n",
    "        coeff_update = []\n",
    "        training_set_rdd_mod = training_set_rdd.flatMap([(index, ((predict(x, coeff)-x[-1])*x[index])) if index is not len(x)-1 else (index, (predict(x, coeff)-x[-1]))  for index in range(len(x)) ])#lambda x: parallel_step_gradient(x, coeff)) \n",
    "        \n",
    "        coeff_update = sorted(training_set_rdd_mod.reduceByKey(lambda x,y: x+y ).collect())\n",
    "        coeff = [ coeff[index]*(1-l_rate_over_size) - (l_rate_over_size*coeff_update[index][1]) for index in range(len(coeff))]\n",
    "        \n",
    "        cost =  cost_function_spark(coeff, training_set_rdd, lambda_reg)\n",
    "        \n",
    "        if(iteration%60 == 0):\n",
    "            print('>iteration=',iteration,' lrate=',l_rate, ' cost_func=', cost)\n",
    "            \n",
    "    return ( cost, coeff )\n",
    "\n",
    "\n",
    "def parallel_step_gradient(x, coeff):\n",
    "    return [(index, ((predict(x, coeff)-x[-1])*x[index])) if index is not len(x)-1 else (index, (predict(x, coeff)-x[-1]))  for index in range(len(x)) ]\n",
    "    \n",
    "\n",
    "\n",
    "def cost_function_spark(coeff, dataset, lambda_reg=0):\n",
    "    if(not isinstance(dataset, rdd.RDD)):\n",
    "        dataset = sc.parallelize(dataset)\n",
    "\n",
    "    value = (lambda_reg/dataset.count())*sum([ coeff[index]**2 for index in range(len(coeff)-1) ]) # The bias(last elem) is not added when regula\n",
    "    value += dataset.map(lambda x: x[-1]*math.log(predict(coeff,x)) + (1-x[-1])*(1-math.log(predict(coeff,x))) ).reduce(lambda x,y: x+y)\n",
    "    \n",
    "    return value  \n",
    "\n",
    "\n",
    "def optimal_learning_rate_value_spark(training_set_rdd, initial_l_rate = 0.05, max_iterations = 20000, lambda_reg = 0):\n",
    "    order_log_list = [initial_l_rate]\n",
    "    [ order_log_list.append(order_log_list[-1]*(2)) for index in range(10)]\n",
    "    error_coeff_list = []\n",
    "    for l_rate in order_log_list:\n",
    "        error_coeff_list.append(training_logistic_regression_model_spark(training_set_rdd, l_rate, max_iterations, lambda_reg))\n",
    "    return sorted(error_coeff_list)  \n",
    "    "
   ]
  },
  {
   "cell_type": "code",
   "execution_count": 132,
   "metadata": {},
   "outputs": [
    {
     "name": "stdout",
     "output_type": "stream",
     "text": [
      "(228.16856095581747, [-0.4116797393583426, -0.9507346914542847, 1.2132028003351005, 1.854676910498479, 5.045134633951993, 3.443701095116759, 9.636134792751466, 4.359518865502516, 4.262926330497529, 1.42116770996463, 2.0764041118516743, -2.151325661323751, 1.330231142748374, 0.4790954801511735, 3.432546483526602, 6.578849638646296, 5.610476135573046, 3.9731737269940823, 1.5136299717242272, 3.352709175195327, 3.697101190845763, 4.431087933863464, 8.639545444390361, 3.5030077016142425, -7.780836723318914, -4.530906758408766, -7.030309329374209, -0.6060805961372036, -2.4204939893145543, -4.153931428749533, -1.2207274768537841, -1.4872731681079525, -2.365595718601463, -1.2927533798466915, -1.5198436930923926, -0.7764079981945744, -2.2856925311305556, -1.12456414277498, -2.3578284213813125, -0.736026476094526, -2.5540760260272615, -5.020149292108184, -3.0863563996583547, -2.068461947446266, -4.7784229996136816, -4.553403721489649, -0.7753308024846393, -1.4611324318925831, -2.7348062900948644, -0.7774328421670993, -0.6274260666530149, 4.534965896125456, 8.110188806790244, 1.2086047488879537, 1.6815438135275673, 2.362102332482063, 6.108599961612226, -1.5990714335009848])\n",
      "14.459816932678223\n"
     ]
    }
   ],
   "source": [
    "def training_logistic_regression_model(training_set, l_rate, iterations=1000, lambda_reg = 0):\n",
    "    # Init the coeff\n",
    "    coeff = [0.0 for index in range(len(training_set[0]))]\n",
    "    l_rate = l_rate/len(training_set)\n",
    "    \n",
    "    for iteration in range(iterations):\n",
    "        sum_error = 0\n",
    "        coeff_upd = [ [] for index in range(len(training_set[0]))]\n",
    "        \n",
    "        for instance in training_set:\n",
    "            yhat = predict(coeff=coeff,values=instance)\n",
    "            error = yhat - instance[-1]\n",
    "            #print('>>>pred=',yhat,\" label=\", instance[-1])\n",
    "            sum_error += error**2\n",
    "            for i in range(len(instance)-1): # Adding items of sumatorium \n",
    "                coeff_upd[i].append((error * instance[i]))\n",
    "            coeff_upd[-1].append(error) # Calculating the bias \\theta_0 \n",
    "            #print(coeff_upd)\n",
    "        #print('--',coeff)\n",
    "        \n",
    "        for i in range(len(coeff_upd)): # Regularization(1-l_rate*lambda_reg), Last value is the label (true ground), \n",
    "            coeff[i] = coeff[i]*(1-l_rate*lambda_reg) - (l_rate * sum(coeff_upd[i]))\n",
    "        \n",
    "        #cost =  cost_function_spark(coeff, training_set, lambda_reg)\n",
    "        #if(iteration%10 == 0):\n",
    "        #    print('>iteration=',iteration,' lrate=',l_rate, ' error=', sum_error, 'cost=', cost)\n",
    "        #print(predict(coeff,training_set[0]), training_set[0][-1], \" - \",predict(coeff,training_set[-1]), training_set[-1][-1])\n",
    "    return ( sum_error, coeff )\n",
    "\n",
    "\n",
    "import time\n",
    "start = time.time()\n",
    "error_coeff = training_logistic_regression_model(trainingset_rdd.collect(), 10, 400, 0.0) # Check if code works\n",
    "print(error_coeff)\n",
    "end = time.time()\n",
    "print(end - start)"
   ]
  },
  {
   "cell_type": "code",
   "execution_count": 114,
   "metadata": {},
   "outputs": [
    {
     "data": {
      "text/plain": [
       "0.0"
      ]
     },
     "execution_count": 114,
     "metadata": {},
     "output_type": "execute_result"
    }
   ],
   "source": [
    "coeff = [0.18450310814753418, -0.1018614574807301, -51.80266262562908]\n",
    "predict(coeff,a.collect()[0])"
   ]
  },
  {
   "cell_type": "code",
   "execution_count": 139,
   "metadata": {},
   "outputs": [
    {
     "name": "stdout",
     "output_type": "stream",
     "text": [
      "0.22585092248056826 0.0\n",
      "0.7752016855553817 1.0\n",
      "0.0654371540627735 0.0\n",
      "0.23733170070721787 0.0\n",
      "0.03916783792172873 0.0\n",
      "0.8937775502383307 1.0\n",
      "0.24262462014478559 1.0\n",
      "0.005817346885660601 0.0\n",
      "0.0601846158323579 0.0\n",
      "0.01960031795080852 0.0\n",
      "0.2059994377709945 0.0\n",
      "0.24197988171014795 0.0\n"
     ]
    }
   ],
   "source": [
    "data = trainingset_rdd.collect()\n",
    "# coeff = [40, 51, -153] optimum\n",
    "coeff = training_logistic_regression_model(data, 10, 4000, 0.5)[1] # Check if code works\n",
    "#coeff = [random.uniform(0, 1) for index in range(len(training_set_rdd.first()))]\n",
    "#coeff = [0.0 for index in range(len(training_set_rdd.first()))]\n",
    "for index in range(a.count()):\n",
    "    print(predict(coeff,data[index]), data[index][-1])"
   ]
  },
  {
   "cell_type": "code",
   "execution_count": 124,
   "metadata": {},
   "outputs": [
    {
     "name": "stdout",
     "output_type": "stream",
     "text": [
      "0.0 0\n",
      "4.6629367034256575e-15 0\n",
      "3.88383322929009e-05 0\n",
      "0.0 0\n",
      "3.175237850427948e-14 0\n",
      "1.5401013797600172e-12 0\n",
      "0.9999999999999998 1\n",
      "0.9999999999999998 1\n",
      "1.0 1\n",
      "1.0 1\n",
      "1.0 1\n",
      "1.0 1\n"
     ]
    }
   ],
   "source": [
    "coeff = [40, 51, -153]\n",
    "coeff = error_coeff[1]\n",
    "#coeff = [random.uniform(0, 1) for index in range(len(training_set_rdd.first()))]\n",
    "#coeff = [0.0 for index in range(len(training_set_rdd.first()))]\n",
    "for index in range(a.count()):     \n",
    "    print(predict(coeff,a.collect()[index]), a.collect()[index][-1])"
   ]
  },
  {
   "cell_type": "code",
   "execution_count": 41,
   "metadata": {},
   "outputs": [
    {
     "name": "stdout",
     "output_type": "stream",
     "text": [
      ">iteration= 0  lrate= 5.0  error= 1.6116474406425663 cost= 3.872148020632097\n",
      "0.21599288750875967 0  -  0.26061790903180104 1\n",
      ">iteration= 1  lrate= 5.0  error= 1.7504549155878188 cost= 5.7485086700201915\n",
      "0.8080865512827858 0  -  0.9479629150397929 1\n",
      ">iteration= 2  lrate= 5.0  error= 3.9483504738736555 cost= -4.730383918255728\n",
      "0.001116196463132768 0  -  0.0008646378870037497 1\n",
      ">iteration= 3  lrate= 5.0  error= 4.85213326774374 cost= 5.201040605408044\n",
      "0.9857967152559239 0  -  0.9998046755047099 1\n",
      "0.6122069358825684\n"
     ]
    }
   ],
   "source": [
    "import time\n",
    "start = time.time()\n",
    "error_coeff = training_logistic_regression_model(a.collect(), 50, 4, 0.1) # Check if code works\n",
    "end = time.time()\n",
    "print(end - start)"
   ]
  },
  {
   "cell_type": "code",
   "execution_count": 107,
   "metadata": {},
   "outputs": [],
   "source": [
    "a = trainingset_rdd.map(lambda x: [x[1],x[2],x[3],x[-1]]).collect()\n",
    "a = sc.parallelize([\n",
    "    [0,   0,   0],\n",
    "    [0.5, 2,   0],\n",
    "    [1,   1.8, 0],\n",
    "    [0.5, 1.5, 0],\n",
    "    [1,   1.5, 0],\n",
    "    [2,   0.5, 0],\n",
    "    [0.5, 3,   1],\n",
    "    [0.5, 3,   1],\n",
    "    [2,  2,    1],\n",
    "    [3,  2,    1],\n",
    "    [3,  1,    1],\n",
    "    [3,  3,    1]    \n",
    "])"
   ]
  },
  {
   "cell_type": "code",
   "execution_count": null,
   "metadata": {},
   "outputs": [],
   "source": []
  },
  {
   "cell_type": "code",
   "execution_count": 35,
   "metadata": {},
   "outputs": [
    {
     "data": {
      "text/plain": [
       "0"
      ]
     },
     "execution_count": 35,
     "metadata": {},
     "output_type": "execute_result"
    }
   ],
   "source": [
    "a.collect()[0][-1]"
   ]
  },
  {
   "cell_type": "code",
   "execution_count": 148,
   "metadata": {},
   "outputs": [],
   "source": [
    "training_set_rdd = trainingset_rdd.flatMap(lambda x: parallel_step_gradient(x, coeff)) \n",
    "training_set_rdd = training_set_rdd.reduceByKey(lambda x,y:  x+y )\n",
    "training_set_rdd.count()\n",
    "coeff_update=sorted(training_set_rdd.collect())\n",
    "\n",
    "\n",
    "#training_logistic_regression_model_spark(trainingset_rdd, 0.05, 1000, 0.005)"
   ]
  },
  {
   "cell_type": "code",
   "execution_count": 32,
   "metadata": {},
   "outputs": [
    {
     "ename": "NameError",
     "evalue": "name 'x' is not defined",
     "output_type": "error",
     "traceback": [
      "\u001b[0;31m\u001b[0m",
      "\u001b[0;31mNameError\u001b[0mTraceback (most recent call last)",
      "\u001b[0;32m<ipython-input-32-ae2b1ad095c1>\u001b[0m in \u001b[0;36m<module>\u001b[0;34m()\u001b[0m\n\u001b[1;32m      1\u001b[0m \u001b[0mstart\u001b[0m \u001b[0;34m=\u001b[0m \u001b[0mtime\u001b[0m\u001b[0;34m.\u001b[0m\u001b[0mtime\u001b[0m\u001b[0;34m(\u001b[0m\u001b[0;34m)\u001b[0m\u001b[0;34m\u001b[0m\u001b[0m\n\u001b[1;32m      2\u001b[0m \u001b[0;31m#values_spark = optimal_learning_rate_value_spark(trainingset_rdd, max_iterations=100, lambda_reg=0.05)\u001b[0m\u001b[0;34m\u001b[0m\u001b[0;34m\u001b[0m\u001b[0m\n\u001b[0;32m----> 3\u001b[0;31m \u001b[0mcoeffs\u001b[0m \u001b[0;34m=\u001b[0m \u001b[0mtraining_logistic_regression_model_spark\u001b[0m\u001b[0;34m(\u001b[0m\u001b[0ma\u001b[0m\u001b[0;34m,\u001b[0m \u001b[0;36m0.5\u001b[0m\u001b[0;34m,\u001b[0m \u001b[0;36m200\u001b[0m\u001b[0;34m,\u001b[0m \u001b[0;36m0\u001b[0m\u001b[0;34m)\u001b[0m\u001b[0;34m\u001b[0m\u001b[0m\n\u001b[0m\u001b[1;32m      4\u001b[0m \u001b[0mend\u001b[0m \u001b[0;34m=\u001b[0m \u001b[0mtime\u001b[0m\u001b[0;34m.\u001b[0m\u001b[0mtime\u001b[0m\u001b[0;34m(\u001b[0m\u001b[0;34m)\u001b[0m\u001b[0;34m\u001b[0m\u001b[0m\n\u001b[1;32m      5\u001b[0m \u001b[0mprint\u001b[0m\u001b[0;34m(\u001b[0m\u001b[0mend\u001b[0m \u001b[0;34m-\u001b[0m \u001b[0mstart\u001b[0m\u001b[0;34m)\u001b[0m\u001b[0;34m\u001b[0m\u001b[0m\n",
      "\u001b[0;32m<ipython-input-17-45e50400ed4f>\u001b[0m in \u001b[0;36mtraining_logistic_regression_model_spark\u001b[0;34m(training_set_rdd, l_rate, iterations, lambda_reg)\u001b[0m\n\u001b[1;32m     23\u001b[0m     \u001b[0;32mfor\u001b[0m \u001b[0miteration\u001b[0m \u001b[0;32min\u001b[0m \u001b[0mrange\u001b[0m\u001b[0;34m(\u001b[0m\u001b[0miterations\u001b[0m\u001b[0;34m)\u001b[0m\u001b[0;34m:\u001b[0m\u001b[0;34m\u001b[0m\u001b[0m\n\u001b[1;32m     24\u001b[0m         \u001b[0mcoeff_update\u001b[0m \u001b[0;34m=\u001b[0m \u001b[0;34m[\u001b[0m\u001b[0;34m]\u001b[0m\u001b[0;34m\u001b[0m\u001b[0m\n\u001b[0;32m---> 25\u001b[0;31m         \u001b[0mtraining_set_rdd_mod\u001b[0m \u001b[0;34m=\u001b[0m \u001b[0mtraining_set_rdd\u001b[0m\u001b[0;34m.\u001b[0m\u001b[0mflatMap\u001b[0m\u001b[0;34m(\u001b[0m\u001b[0;34m[\u001b[0m\u001b[0;34m(\u001b[0m\u001b[0mindex\u001b[0m\u001b[0;34m,\u001b[0m \u001b[0;34m(\u001b[0m\u001b[0;34m(\u001b[0m\u001b[0mpredict\u001b[0m\u001b[0;34m(\u001b[0m\u001b[0mx\u001b[0m\u001b[0;34m,\u001b[0m \u001b[0mcoeff\u001b[0m\u001b[0;34m)\u001b[0m\u001b[0;34m-\u001b[0m\u001b[0mx\u001b[0m\u001b[0;34m[\u001b[0m\u001b[0;34m-\u001b[0m\u001b[0;36m1\u001b[0m\u001b[0;34m]\u001b[0m\u001b[0;34m)\u001b[0m\u001b[0;34m*\u001b[0m\u001b[0mx\u001b[0m\u001b[0;34m[\u001b[0m\u001b[0mindex\u001b[0m\u001b[0;34m]\u001b[0m\u001b[0;34m)\u001b[0m\u001b[0;34m)\u001b[0m \u001b[0;32mif\u001b[0m \u001b[0mindex\u001b[0m \u001b[0;32mis\u001b[0m \u001b[0;32mnot\u001b[0m \u001b[0mlen\u001b[0m\u001b[0;34m(\u001b[0m\u001b[0mx\u001b[0m\u001b[0;34m)\u001b[0m\u001b[0;34m-\u001b[0m\u001b[0;36m1\u001b[0m \u001b[0;32melse\u001b[0m \u001b[0;34m(\u001b[0m\u001b[0mindex\u001b[0m\u001b[0;34m,\u001b[0m \u001b[0;34m(\u001b[0m\u001b[0mpredict\u001b[0m\u001b[0;34m(\u001b[0m\u001b[0mx\u001b[0m\u001b[0;34m,\u001b[0m \u001b[0mcoeff\u001b[0m\u001b[0;34m)\u001b[0m\u001b[0;34m-\u001b[0m\u001b[0mx\u001b[0m\u001b[0;34m[\u001b[0m\u001b[0;34m-\u001b[0m\u001b[0;36m1\u001b[0m\u001b[0;34m]\u001b[0m\u001b[0;34m)\u001b[0m\u001b[0;34m)\u001b[0m  \u001b[0;32mfor\u001b[0m \u001b[0mindex\u001b[0m \u001b[0;32min\u001b[0m \u001b[0mrange\u001b[0m\u001b[0;34m(\u001b[0m\u001b[0mlen\u001b[0m\u001b[0;34m(\u001b[0m\u001b[0mx\u001b[0m\u001b[0;34m)\u001b[0m\u001b[0;34m)\u001b[0m \u001b[0;34m]\u001b[0m\u001b[0;34m)\u001b[0m\u001b[0;31m#lambda x: parallel_step_gradient(x, coeff))\u001b[0m\u001b[0;34m\u001b[0m\u001b[0m\n\u001b[0m\u001b[1;32m     26\u001b[0m \u001b[0;34m\u001b[0m\u001b[0m\n\u001b[1;32m     27\u001b[0m         \u001b[0mcoeff_update\u001b[0m \u001b[0;34m=\u001b[0m \u001b[0msorted\u001b[0m\u001b[0;34m(\u001b[0m\u001b[0mtraining_set_rdd_mod\u001b[0m\u001b[0;34m.\u001b[0m\u001b[0mreduceByKey\u001b[0m\u001b[0;34m(\u001b[0m\u001b[0;32mlambda\u001b[0m \u001b[0mx\u001b[0m\u001b[0;34m,\u001b[0m\u001b[0my\u001b[0m\u001b[0;34m:\u001b[0m \u001b[0mx\u001b[0m\u001b[0;34m+\u001b[0m\u001b[0my\u001b[0m \u001b[0;34m)\u001b[0m\u001b[0;34m.\u001b[0m\u001b[0mcollect\u001b[0m\u001b[0;34m(\u001b[0m\u001b[0;34m)\u001b[0m\u001b[0;34m)\u001b[0m\u001b[0;34m\u001b[0m\u001b[0m\n",
      "\u001b[0;31mNameError\u001b[0m: name 'x' is not defined"
     ]
    }
   ],
   "source": [
    "start = time.time()\n",
    "#values_spark = optimal_learning_rate_value_spark(trainingset_rdd, max_iterations=100, lambda_reg=0.05)\n",
    "coeffs = training_logistic_regression_model_spark(trainingset_rdd, 0.5, 200, 0)\n",
    "end = time.time()\n",
    "print(end - start)"
   ]
  },
  {
   "cell_type": "code",
   "execution_count": 59,
   "metadata": {
    "collapsed": true
   },
   "outputs": [
    {
     "ename": "Py4JJavaError",
     "evalue": "An error occurred while calling z:org.apache.spark.api.python.PythonRDD.collectAndServe.\n: org.apache.spark.SparkException: Job aborted due to stage failure: Task 0 in stage 89.0 failed 1 times, most recent failure: Lost task 0.0 in stage 89.0 (TID 282, localhost, executor driver): org.apache.spark.api.python.PythonException: Traceback (most recent call last):\n  File \"/usr/local/spark/python/lib/pyspark.zip/pyspark/worker.py\", line 177, in main\n    process()\n  File \"/usr/local/spark/python/lib/pyspark.zip/pyspark/worker.py\", line 172, in process\n    serializer.dump_stream(func(split_index, iterator), outfile)\n  File \"/usr/local/spark/python/pyspark/rdd.py\", line 346, in func\n    return f(iterator)\n  File \"/usr/local/spark/python/pyspark/rdd.py\", line 1850, in _mergeCombiners\n    merger.mergeCombiners(iterator)\n  File \"/usr/local/spark/python/lib/pyspark.zip/pyspark/shuffle.py\", line 272, in mergeCombiners\n    d[k] = comb(d[k], v) if k in d else v\n  File \"<ipython-input-59-a86513ec794c>\", line 5, in <lambda>\nTypeError: 'int' object is not iterable\n\n\tat org.apache.spark.api.python.PythonRunner$$anon$1.read(PythonRDD.scala:193)\n\tat org.apache.spark.api.python.PythonRunner$$anon$1.<init>(PythonRDD.scala:234)\n\tat org.apache.spark.api.python.PythonRunner.compute(PythonRDD.scala:152)\n\tat org.apache.spark.api.python.PythonRDD.compute(PythonRDD.scala:63)\n\tat org.apache.spark.rdd.RDD.computeOrReadCheckpoint(RDD.scala:323)\n\tat org.apache.spark.rdd.RDD.iterator(RDD.scala:287)\n\tat org.apache.spark.scheduler.ResultTask.runTask(ResultTask.scala:87)\n\tat org.apache.spark.scheduler.Task.run(Task.scala:108)\n\tat org.apache.spark.executor.Executor$TaskRunner.run(Executor.scala:335)\n\tat java.util.concurrent.ThreadPoolExecutor.runWorker(ThreadPoolExecutor.java:1149)\n\tat java.util.concurrent.ThreadPoolExecutor$Worker.run(ThreadPoolExecutor.java:624)\n\tat java.lang.Thread.run(Thread.java:748)\n\nDriver stacktrace:\n\tat org.apache.spark.scheduler.DAGScheduler.org$apache$spark$scheduler$DAGScheduler$$failJobAndIndependentStages(DAGScheduler.scala:1499)\n\tat org.apache.spark.scheduler.DAGScheduler$$anonfun$abortStage$1.apply(DAGScheduler.scala:1487)\n\tat org.apache.spark.scheduler.DAGScheduler$$anonfun$abortStage$1.apply(DAGScheduler.scala:1486)\n\tat scala.collection.mutable.ResizableArray$class.foreach(ResizableArray.scala:59)\n\tat scala.collection.mutable.ArrayBuffer.foreach(ArrayBuffer.scala:48)\n\tat org.apache.spark.scheduler.DAGScheduler.abortStage(DAGScheduler.scala:1486)\n\tat org.apache.spark.scheduler.DAGScheduler$$anonfun$handleTaskSetFailed$1.apply(DAGScheduler.scala:814)\n\tat org.apache.spark.scheduler.DAGScheduler$$anonfun$handleTaskSetFailed$1.apply(DAGScheduler.scala:814)\n\tat scala.Option.foreach(Option.scala:257)\n\tat org.apache.spark.scheduler.DAGScheduler.handleTaskSetFailed(DAGScheduler.scala:814)\n\tat org.apache.spark.scheduler.DAGSchedulerEventProcessLoop.doOnReceive(DAGScheduler.scala:1714)\n\tat org.apache.spark.scheduler.DAGSchedulerEventProcessLoop.onReceive(DAGScheduler.scala:1669)\n\tat org.apache.spark.scheduler.DAGSchedulerEventProcessLoop.onReceive(DAGScheduler.scala:1658)\n\tat org.apache.spark.util.EventLoop$$anon$1.run(EventLoop.scala:48)\n\tat org.apache.spark.scheduler.DAGScheduler.runJob(DAGScheduler.scala:630)\n\tat org.apache.spark.SparkContext.runJob(SparkContext.scala:2022)\n\tat org.apache.spark.SparkContext.runJob(SparkContext.scala:2043)\n\tat org.apache.spark.SparkContext.runJob(SparkContext.scala:2062)\n\tat org.apache.spark.SparkContext.runJob(SparkContext.scala:2087)\n\tat org.apache.spark.rdd.RDD$$anonfun$collect$1.apply(RDD.scala:936)\n\tat org.apache.spark.rdd.RDDOperationScope$.withScope(RDDOperationScope.scala:151)\n\tat org.apache.spark.rdd.RDDOperationScope$.withScope(RDDOperationScope.scala:112)\n\tat org.apache.spark.rdd.RDD.withScope(RDD.scala:362)\n\tat org.apache.spark.rdd.RDD.collect(RDD.scala:935)\n\tat org.apache.spark.api.python.PythonRDD$.collectAndServe(PythonRDD.scala:458)\n\tat org.apache.spark.api.python.PythonRDD.collectAndServe(PythonRDD.scala)\n\tat sun.reflect.GeneratedMethodAccessor36.invoke(Unknown Source)\n\tat sun.reflect.DelegatingMethodAccessorImpl.invoke(DelegatingMethodAccessorImpl.java:43)\n\tat java.lang.reflect.Method.invoke(Method.java:498)\n\tat py4j.reflection.MethodInvoker.invoke(MethodInvoker.java:244)\n\tat py4j.reflection.ReflectionEngine.invoke(ReflectionEngine.java:357)\n\tat py4j.Gateway.invoke(Gateway.java:280)\n\tat py4j.commands.AbstractCommand.invokeMethod(AbstractCommand.java:132)\n\tat py4j.commands.CallCommand.execute(CallCommand.java:79)\n\tat py4j.GatewayConnection.run(GatewayConnection.java:214)\n\tat java.lang.Thread.run(Thread.java:748)\nCaused by: org.apache.spark.api.python.PythonException: Traceback (most recent call last):\n  File \"/usr/local/spark/python/lib/pyspark.zip/pyspark/worker.py\", line 177, in main\n    process()\n  File \"/usr/local/spark/python/lib/pyspark.zip/pyspark/worker.py\", line 172, in process\n    serializer.dump_stream(func(split_index, iterator), outfile)\n  File \"/usr/local/spark/python/pyspark/rdd.py\", line 346, in func\n    return f(iterator)\n  File \"/usr/local/spark/python/pyspark/rdd.py\", line 1850, in _mergeCombiners\n    merger.mergeCombiners(iterator)\n  File \"/usr/local/spark/python/lib/pyspark.zip/pyspark/shuffle.py\", line 272, in mergeCombiners\n    d[k] = comb(d[k], v) if k in d else v\n  File \"<ipython-input-59-a86513ec794c>\", line 5, in <lambda>\nTypeError: 'int' object is not iterable\n\n\tat org.apache.spark.api.python.PythonRunner$$anon$1.read(PythonRDD.scala:193)\n\tat org.apache.spark.api.python.PythonRunner$$anon$1.<init>(PythonRDD.scala:234)\n\tat org.apache.spark.api.python.PythonRunner.compute(PythonRDD.scala:152)\n\tat org.apache.spark.api.python.PythonRDD.compute(PythonRDD.scala:63)\n\tat org.apache.spark.rdd.RDD.computeOrReadCheckpoint(RDD.scala:323)\n\tat org.apache.spark.rdd.RDD.iterator(RDD.scala:287)\n\tat org.apache.spark.scheduler.ResultTask.runTask(ResultTask.scala:87)\n\tat org.apache.spark.scheduler.Task.run(Task.scala:108)\n\tat org.apache.spark.executor.Executor$TaskRunner.run(Executor.scala:335)\n\tat java.util.concurrent.ThreadPoolExecutor.runWorker(ThreadPoolExecutor.java:1149)\n\tat java.util.concurrent.ThreadPoolExecutor$Worker.run(ThreadPoolExecutor.java:624)\n\t... 1 more\n",
     "output_type": "error",
     "traceback": [
      "\u001b[0;31m\u001b[0m",
      "\u001b[0;31mPy4JJavaError\u001b[0mTraceback (most recent call last)",
      "\u001b[0;32m<ipython-input-59-a86513ec794c>\u001b[0m in \u001b[0;36m<module>\u001b[0;34m()\u001b[0m\n\u001b[1;32m      4\u001b[0m \u001b[0ma\u001b[0m\u001b[0;34m=\u001b[0m \u001b[0mtrainingset_rdd\u001b[0m\u001b[0;34m.\u001b[0m\u001b[0mmap\u001b[0m\u001b[0;34m(\u001b[0m\u001b[0;32mlambda\u001b[0m \u001b[0mx\u001b[0m\u001b[0;34m:\u001b[0m \u001b[0;34m(\u001b[0m\u001b[0mx\u001b[0m\u001b[0;34m[\u001b[0m\u001b[0;36m0\u001b[0m\u001b[0;34m]\u001b[0m\u001b[0;34m%\u001b[0m\u001b[0;36m2\u001b[0m\u001b[0;34m,\u001b[0m\u001b[0mx\u001b[0m\u001b[0;34m)\u001b[0m\u001b[0;34m)\u001b[0m\u001b[0;34m\u001b[0m\u001b[0m\n\u001b[1;32m      5\u001b[0m \u001b[0mb\u001b[0m \u001b[0;34m=\u001b[0m \u001b[0ma\u001b[0m\u001b[0;34m.\u001b[0m\u001b[0mreduceByKey\u001b[0m\u001b[0;34m(\u001b[0m\u001b[0;32mlambda\u001b[0m \u001b[0mx\u001b[0m\u001b[0;34m,\u001b[0m\u001b[0my\u001b[0m\u001b[0;34m:\u001b[0m \u001b[0madd\u001b[0m\u001b[0;34m(\u001b[0m\u001b[0msum\u001b[0m\u001b[0;34m(\u001b[0m\u001b[0mx\u001b[0m\u001b[0;34m)\u001b[0m\u001b[0;34m,\u001b[0m\u001b[0msum\u001b[0m\u001b[0;34m(\u001b[0m\u001b[0my\u001b[0m\u001b[0;34m)\u001b[0m\u001b[0;34m)\u001b[0m\u001b[0;34m)\u001b[0m\u001b[0;34m\u001b[0m\u001b[0m\n\u001b[0;32m----> 6\u001b[0;31m \u001b[0mb\u001b[0m\u001b[0;34m.\u001b[0m\u001b[0mcollect\u001b[0m\u001b[0;34m(\u001b[0m\u001b[0;34m)\u001b[0m\u001b[0;34m\u001b[0m\u001b[0m\n\u001b[0m",
      "\u001b[0;32m/usr/local/spark/python/pyspark/rdd.py\u001b[0m in \u001b[0;36mcollect\u001b[0;34m(self)\u001b[0m\n\u001b[1;32m    807\u001b[0m         \"\"\"\n\u001b[1;32m    808\u001b[0m         \u001b[0;32mwith\u001b[0m \u001b[0mSCCallSiteSync\u001b[0m\u001b[0;34m(\u001b[0m\u001b[0mself\u001b[0m\u001b[0;34m.\u001b[0m\u001b[0mcontext\u001b[0m\u001b[0;34m)\u001b[0m \u001b[0;32mas\u001b[0m \u001b[0mcss\u001b[0m\u001b[0;34m:\u001b[0m\u001b[0;34m\u001b[0m\u001b[0m\n\u001b[0;32m--> 809\u001b[0;31m             \u001b[0mport\u001b[0m \u001b[0;34m=\u001b[0m \u001b[0mself\u001b[0m\u001b[0;34m.\u001b[0m\u001b[0mctx\u001b[0m\u001b[0;34m.\u001b[0m\u001b[0m_jvm\u001b[0m\u001b[0;34m.\u001b[0m\u001b[0mPythonRDD\u001b[0m\u001b[0;34m.\u001b[0m\u001b[0mcollectAndServe\u001b[0m\u001b[0;34m(\u001b[0m\u001b[0mself\u001b[0m\u001b[0;34m.\u001b[0m\u001b[0m_jrdd\u001b[0m\u001b[0;34m.\u001b[0m\u001b[0mrdd\u001b[0m\u001b[0;34m(\u001b[0m\u001b[0;34m)\u001b[0m\u001b[0;34m)\u001b[0m\u001b[0;34m\u001b[0m\u001b[0m\n\u001b[0m\u001b[1;32m    810\u001b[0m         \u001b[0;32mreturn\u001b[0m \u001b[0mlist\u001b[0m\u001b[0;34m(\u001b[0m\u001b[0m_load_from_socket\u001b[0m\u001b[0;34m(\u001b[0m\u001b[0mport\u001b[0m\u001b[0;34m,\u001b[0m \u001b[0mself\u001b[0m\u001b[0;34m.\u001b[0m\u001b[0m_jrdd_deserializer\u001b[0m\u001b[0;34m)\u001b[0m\u001b[0;34m)\u001b[0m\u001b[0;34m\u001b[0m\u001b[0m\n\u001b[1;32m    811\u001b[0m \u001b[0;34m\u001b[0m\u001b[0m\n",
      "\u001b[0;32m/usr/local/spark/python/lib/py4j-0.10.4-src.zip/py4j/java_gateway.py\u001b[0m in \u001b[0;36m__call__\u001b[0;34m(self, *args)\u001b[0m\n\u001b[1;32m   1131\u001b[0m         \u001b[0manswer\u001b[0m \u001b[0;34m=\u001b[0m \u001b[0mself\u001b[0m\u001b[0;34m.\u001b[0m\u001b[0mgateway_client\u001b[0m\u001b[0;34m.\u001b[0m\u001b[0msend_command\u001b[0m\u001b[0;34m(\u001b[0m\u001b[0mcommand\u001b[0m\u001b[0;34m)\u001b[0m\u001b[0;34m\u001b[0m\u001b[0m\n\u001b[1;32m   1132\u001b[0m         return_value = get_return_value(\n\u001b[0;32m-> 1133\u001b[0;31m             answer, self.gateway_client, self.target_id, self.name)\n\u001b[0m\u001b[1;32m   1134\u001b[0m \u001b[0;34m\u001b[0m\u001b[0m\n\u001b[1;32m   1135\u001b[0m         \u001b[0;32mfor\u001b[0m \u001b[0mtemp_arg\u001b[0m \u001b[0;32min\u001b[0m \u001b[0mtemp_args\u001b[0m\u001b[0;34m:\u001b[0m\u001b[0;34m\u001b[0m\u001b[0m\n",
      "\u001b[0;32m/usr/local/spark/python/lib/py4j-0.10.4-src.zip/py4j/protocol.py\u001b[0m in \u001b[0;36mget_return_value\u001b[0;34m(answer, gateway_client, target_id, name)\u001b[0m\n\u001b[1;32m    317\u001b[0m                 raise Py4JJavaError(\n\u001b[1;32m    318\u001b[0m                     \u001b[0;34m\"An error occurred while calling {0}{1}{2}.\\n\"\u001b[0m\u001b[0;34m.\u001b[0m\u001b[0;34m\u001b[0m\u001b[0m\n\u001b[0;32m--> 319\u001b[0;31m                     format(target_id, \".\", name), value)\n\u001b[0m\u001b[1;32m    320\u001b[0m             \u001b[0;32melse\u001b[0m\u001b[0;34m:\u001b[0m\u001b[0;34m\u001b[0m\u001b[0m\n\u001b[1;32m    321\u001b[0m                 raise Py4JError(\n",
      "\u001b[0;31mPy4JJavaError\u001b[0m: An error occurred while calling z:org.apache.spark.api.python.PythonRDD.collectAndServe.\n: org.apache.spark.SparkException: Job aborted due to stage failure: Task 0 in stage 89.0 failed 1 times, most recent failure: Lost task 0.0 in stage 89.0 (TID 282, localhost, executor driver): org.apache.spark.api.python.PythonException: Traceback (most recent call last):\n  File \"/usr/local/spark/python/lib/pyspark.zip/pyspark/worker.py\", line 177, in main\n    process()\n  File \"/usr/local/spark/python/lib/pyspark.zip/pyspark/worker.py\", line 172, in process\n    serializer.dump_stream(func(split_index, iterator), outfile)\n  File \"/usr/local/spark/python/pyspark/rdd.py\", line 346, in func\n    return f(iterator)\n  File \"/usr/local/spark/python/pyspark/rdd.py\", line 1850, in _mergeCombiners\n    merger.mergeCombiners(iterator)\n  File \"/usr/local/spark/python/lib/pyspark.zip/pyspark/shuffle.py\", line 272, in mergeCombiners\n    d[k] = comb(d[k], v) if k in d else v\n  File \"<ipython-input-59-a86513ec794c>\", line 5, in <lambda>\nTypeError: 'int' object is not iterable\n\n\tat org.apache.spark.api.python.PythonRunner$$anon$1.read(PythonRDD.scala:193)\n\tat org.apache.spark.api.python.PythonRunner$$anon$1.<init>(PythonRDD.scala:234)\n\tat org.apache.spark.api.python.PythonRunner.compute(PythonRDD.scala:152)\n\tat org.apache.spark.api.python.PythonRDD.compute(PythonRDD.scala:63)\n\tat org.apache.spark.rdd.RDD.computeOrReadCheckpoint(RDD.scala:323)\n\tat org.apache.spark.rdd.RDD.iterator(RDD.scala:287)\n\tat org.apache.spark.scheduler.ResultTask.runTask(ResultTask.scala:87)\n\tat org.apache.spark.scheduler.Task.run(Task.scala:108)\n\tat org.apache.spark.executor.Executor$TaskRunner.run(Executor.scala:335)\n\tat java.util.concurrent.ThreadPoolExecutor.runWorker(ThreadPoolExecutor.java:1149)\n\tat java.util.concurrent.ThreadPoolExecutor$Worker.run(ThreadPoolExecutor.java:624)\n\tat java.lang.Thread.run(Thread.java:748)\n\nDriver stacktrace:\n\tat org.apache.spark.scheduler.DAGScheduler.org$apache$spark$scheduler$DAGScheduler$$failJobAndIndependentStages(DAGScheduler.scala:1499)\n\tat org.apache.spark.scheduler.DAGScheduler$$anonfun$abortStage$1.apply(DAGScheduler.scala:1487)\n\tat org.apache.spark.scheduler.DAGScheduler$$anonfun$abortStage$1.apply(DAGScheduler.scala:1486)\n\tat scala.collection.mutable.ResizableArray$class.foreach(ResizableArray.scala:59)\n\tat scala.collection.mutable.ArrayBuffer.foreach(ArrayBuffer.scala:48)\n\tat org.apache.spark.scheduler.DAGScheduler.abortStage(DAGScheduler.scala:1486)\n\tat org.apache.spark.scheduler.DAGScheduler$$anonfun$handleTaskSetFailed$1.apply(DAGScheduler.scala:814)\n\tat org.apache.spark.scheduler.DAGScheduler$$anonfun$handleTaskSetFailed$1.apply(DAGScheduler.scala:814)\n\tat scala.Option.foreach(Option.scala:257)\n\tat org.apache.spark.scheduler.DAGScheduler.handleTaskSetFailed(DAGScheduler.scala:814)\n\tat org.apache.spark.scheduler.DAGSchedulerEventProcessLoop.doOnReceive(DAGScheduler.scala:1714)\n\tat org.apache.spark.scheduler.DAGSchedulerEventProcessLoop.onReceive(DAGScheduler.scala:1669)\n\tat org.apache.spark.scheduler.DAGSchedulerEventProcessLoop.onReceive(DAGScheduler.scala:1658)\n\tat org.apache.spark.util.EventLoop$$anon$1.run(EventLoop.scala:48)\n\tat org.apache.spark.scheduler.DAGScheduler.runJob(DAGScheduler.scala:630)\n\tat org.apache.spark.SparkContext.runJob(SparkContext.scala:2022)\n\tat org.apache.spark.SparkContext.runJob(SparkContext.scala:2043)\n\tat org.apache.spark.SparkContext.runJob(SparkContext.scala:2062)\n\tat org.apache.spark.SparkContext.runJob(SparkContext.scala:2087)\n\tat org.apache.spark.rdd.RDD$$anonfun$collect$1.apply(RDD.scala:936)\n\tat org.apache.spark.rdd.RDDOperationScope$.withScope(RDDOperationScope.scala:151)\n\tat org.apache.spark.rdd.RDDOperationScope$.withScope(RDDOperationScope.scala:112)\n\tat org.apache.spark.rdd.RDD.withScope(RDD.scala:362)\n\tat org.apache.spark.rdd.RDD.collect(RDD.scala:935)\n\tat org.apache.spark.api.python.PythonRDD$.collectAndServe(PythonRDD.scala:458)\n\tat org.apache.spark.api.python.PythonRDD.collectAndServe(PythonRDD.scala)\n\tat sun.reflect.GeneratedMethodAccessor36.invoke(Unknown Source)\n\tat sun.reflect.DelegatingMethodAccessorImpl.invoke(DelegatingMethodAccessorImpl.java:43)\n\tat java.lang.reflect.Method.invoke(Method.java:498)\n\tat py4j.reflection.MethodInvoker.invoke(MethodInvoker.java:244)\n\tat py4j.reflection.ReflectionEngine.invoke(ReflectionEngine.java:357)\n\tat py4j.Gateway.invoke(Gateway.java:280)\n\tat py4j.commands.AbstractCommand.invokeMethod(AbstractCommand.java:132)\n\tat py4j.commands.CallCommand.execute(CallCommand.java:79)\n\tat py4j.GatewayConnection.run(GatewayConnection.java:214)\n\tat java.lang.Thread.run(Thread.java:748)\nCaused by: org.apache.spark.api.python.PythonException: Traceback (most recent call last):\n  File \"/usr/local/spark/python/lib/pyspark.zip/pyspark/worker.py\", line 177, in main\n    process()\n  File \"/usr/local/spark/python/lib/pyspark.zip/pyspark/worker.py\", line 172, in process\n    serializer.dump_stream(func(split_index, iterator), outfile)\n  File \"/usr/local/spark/python/pyspark/rdd.py\", line 346, in func\n    return f(iterator)\n  File \"/usr/local/spark/python/pyspark/rdd.py\", line 1850, in _mergeCombiners\n    merger.mergeCombiners(iterator)\n  File \"/usr/local/spark/python/lib/pyspark.zip/pyspark/shuffle.py\", line 272, in mergeCombiners\n    d[k] = comb(d[k], v) if k in d else v\n  File \"<ipython-input-59-a86513ec794c>\", line 5, in <lambda>\nTypeError: 'int' object is not iterable\n\n\tat org.apache.spark.api.python.PythonRunner$$anon$1.read(PythonRDD.scala:193)\n\tat org.apache.spark.api.python.PythonRunner$$anon$1.<init>(PythonRDD.scala:234)\n\tat org.apache.spark.api.python.PythonRunner.compute(PythonRDD.scala:152)\n\tat org.apache.spark.api.python.PythonRDD.compute(PythonRDD.scala:63)\n\tat org.apache.spark.rdd.RDD.computeOrReadCheckpoint(RDD.scala:323)\n\tat org.apache.spark.rdd.RDD.iterator(RDD.scala:287)\n\tat org.apache.spark.scheduler.ResultTask.runTask(ResultTask.scala:87)\n\tat org.apache.spark.scheduler.Task.run(Task.scala:108)\n\tat org.apache.spark.executor.Executor$TaskRunner.run(Executor.scala:335)\n\tat java.util.concurrent.ThreadPoolExecutor.runWorker(ThreadPoolExecutor.java:1149)\n\tat java.util.concurrent.ThreadPoolExecutor$Worker.run(ThreadPoolExecutor.java:624)\n\t... 1 more\n"
     ]
    }
   ],
   "source": [
    "from operator import add \n",
    "trainingset_rdd = sc.parallelize([(1,2),(2,3),(4,5),(6,7),(8,9)])\n",
    "#trainingset_rdd = sc.parallelize([1,2,2,3,4,5,6,7,8,9])\n",
    "a= \n",
    "b = a.reduceByKey(lambda x,y: add(sum(x),sum(y)))\n",
    "b.collect()"
   ]
  },
  {
   "cell_type": "code",
   "execution_count": 208,
   "metadata": {},
   "outputs": [
    {
     "data": {
      "image/png": "[encoded data removed]",
      "text/plain": [
       "<matplotlib.figure.Figure at 0x7f91d047ff28>"
      ]
     },
     "metadata": {},
     "output_type": "display_data"
    }
   ],
   "source": [
    "a = np.histogram([1,2,3,4,5,6,7,8,9,2,3,4,5,2,3,4,2,3,4,5,2,6,8])\n",
    "b = [1,2,3,4,5,6,7,8,9,2,3,4,5,2,3,4,2,3,4,5,2,6,8]\n",
    "b = trainingset_rdd.map(lambda x: x[-1]).collect()\n",
    "\n",
    "import numpy as np\n",
    "import random\n",
    "from matplotlib import pyplot as plt\n",
    "\n",
    "data = b\n",
    "\n",
    "# fixed bin size\n",
    "bins = np.arange(-100, 100, 5) # fixed bin size\n",
    "\n",
    "plt.hist(data, bins=11, alpha=0.5)\n",
    "plt.title('Random Gaussian data (fixed bin size)')\n",
    "plt.xlabel('variable X (bin size = 5)')\n",
    "plt.ylabel('count')\n",
    "\n",
    "plt.show()"
   ]
  },
  {
   "cell_type": "code",
   "execution_count": null,
   "metadata": {},
   "outputs": [],
   "source": [
    "dataset = [[2.7810836,2.550537003,0],\n",
    "\t[1.465489372,2.362125076,0],\n",
    "\t[3.396561688,4.400293529,0],\n",
    "\t[1.38807019,1.850220317,0],\n",
    "\t[3.06407232,3.005305973,0],\n",
    "\t[7.627531214,2.759262235,1],\n",
    "\t[5.332441248,2.088626775,1],\n",
    "\t[6.922596716,1.77106367,1],\n",
    "\t[8.675418651,-0.242068655,1],\n",
    "\t[7.673756466,3.508563011,1]]\n",
    "l_rate = 0.3\n",
    "n_epoch = 100\n",
    "\n",
    "training_logistic_regression_model(dataset, l_rate, n_epoch,0)"
   ]
  },
  {
   "cell_type": "code",
   "execution_count": null,
   "metadata": {},
   "outputs": [],
   "source": [
    "def optimal_learning_rate_value(training_set, initial_l_rate = 0.05, max_iterations = 20000, lambda_reg = 0):\n",
    "    order_log_list = [initial_l_rate]\n",
    "    [ order_log_list.append(order_log_list[-1]*(2)) for index in range(10)]\n",
    "    error_coeff_list = []\n",
    "    for l_rate in order_log_list:\n",
    "        error_coeff_list.append(training_logistic_regression_model(training_set, l_rate, max_iterations, lambda_reg))\n",
    "    return sorted(error_coeff_list)         "
   ]
  },
  {
   "cell_type": "code",
   "execution_count": null,
   "metadata": {},
   "outputs": [],
   "source": [
    "values2 = optimal_learning_rate_value(trainingset_rdd.collect(), max_iterations=60, lambda_reg=0.05)"
   ]
  },
  {
   "cell_type": "code",
   "execution_count": null,
   "metadata": {},
   "outputs": [],
   "source": [
    "values = optimal_learning_rate_value(trainingset_rdd.collect(), lambda_reg=0.05)"
   ]
  },
  {
   "cell_type": "markdown",
   "metadata": {},
   "source": [
    "## Experiments\n",
    "\n",
    "bla, bla"
   ]
  },
  {
   "cell_type": "markdown",
   "metadata": {},
   "source": [
    "## Conclusions\n",
    "\n",
    "bla, bla"
   ]
  }
 ],
 "metadata": {
  "celltoolbar": "Raw Cell Format",
  "kernelspec": {
   "display_name": "Python 3",
   "language": "python",
   "name": "python3"
  },
  "language_info": {
   "codemirror_mode": {
    "name": "ipython",
    "version": 3
   },
   "file_extension": ".py",
   "mimetype": "text/x-python",
   "name": "python",
   "nbconvert_exporter": "python",
   "pygments_lexer": "ipython3",
   "version": "3.6.3"
  }
 },
 "nbformat": 4,
 "nbformat_minor": 2
}
